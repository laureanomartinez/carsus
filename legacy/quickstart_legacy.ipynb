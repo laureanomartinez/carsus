{
 "cells": [
  {
   "cell_type": "markdown",
   "metadata": {},
   "source": [
    "# Quickstart for Carsus SQL\n",
    "\n",
    "This notebook provides a quick introduction in using Carsus with the SQL interface."
   ]
  },
  {
   "cell_type": "markdown",
   "metadata": {},
   "source": [
    "## Creating a Database\n",
    "\n",
    "To start working with a database you need to initialize it. This requires an `url`, for example `sqlite:///path/to/example.db`. \n",
    "\n",
    "In this guide we'll use a in-memory `sqlite` database, so we leave the `url` empty:"
   ]
  },
  {
   "cell_type": "code",
   "execution_count": 1,
   "metadata": {
    "execution": {
     "iopub.execute_input": "2022-04-28T15:26:11.265723Z",
     "iopub.status.busy": "2022-04-28T15:26:11.265498Z",
     "iopub.status.idle": "2022-04-28T15:26:12.076341Z",
     "shell.execute_reply": "2022-04-28T15:26:12.075829Z"
    }
   },
   "outputs": [
    {
     "name": "stdout",
     "output_type": "stream",
     "text": [
      "[\u001b[1m                carsus.base\u001b[0m][   \u001b[1;37mINFO\u001b[0m] - Initializing the database at sqlite:// (\u001b[1mbase.py\u001b[0m:32)\n"
     ]
    },
    {
     "name": "stdout",
     "output_type": "stream",
     "text": [
      "[\u001b[1m                carsus.base\u001b[0m][   \u001b[1;37mINFO\u001b[0m] - Ingesting basic atomic data. (\u001b[1mbase.py\u001b[0m:45)\n"
     ]
    }
   ],
   "source": [
    "from carsus import init_db\n",
    "session = init_db()"
   ]
  },
  {
   "cell_type": "markdown",
   "metadata": {},
   "source": [
    "Now, we have an SQLAlchemy `Session` object named `session`. We can use `session` to make simple queries. As you can see from the output, some basic atomic data has been ingested into our database. \n",
    "\n",
    "Let's examine it:"
   ]
  },
  {
   "cell_type": "code",
   "execution_count": 2,
   "metadata": {
    "execution": {
     "iopub.execute_input": "2022-04-28T15:26:12.084942Z",
     "iopub.status.busy": "2022-04-28T15:26:12.084717Z",
     "iopub.status.idle": "2022-04-28T15:26:12.090872Z",
     "shell.execute_reply": "2022-04-28T15:26:12.090725Z"
    }
   },
   "outputs": [
    {
     "name": "stdout",
     "output_type": "stream",
     "text": [
      "Number of Atoms in the database: 118\n",
      "Symbol: Si, atomic_number: 14, name: Silicon\n"
     ]
    }
   ],
   "source": [
    "from carsus.model import Atom\n",
    "\n",
    "print('Number of Atoms in the database: {}'.format(session.query(Atom).count()))\n",
    "si = session.query(Atom).get(14) \n",
    "\n",
    "print('Symbol: {}, atomic_number: {}, name: {}'.format(si.symbol, si.atomic_number, si.name))"
   ]
  },
  {
   "cell_type": "markdown",
   "metadata": {},
   "source": [
    "So, our database already contains basic information about atoms. But this information has not been commited to the database yet. It is always **your responsibility** to commit the data!."
   ]
  },
  {
   "cell_type": "code",
   "execution_count": 3,
   "metadata": {
    "execution": {
     "iopub.execute_input": "2022-04-28T15:26:12.093595Z",
     "iopub.status.busy": "2022-04-28T15:26:12.093347Z",
     "iopub.status.idle": "2022-04-28T15:26:12.095049Z",
     "shell.execute_reply": "2022-04-28T15:26:12.094879Z"
    }
   },
   "outputs": [],
   "source": [
    "session.commit()"
   ]
  },
  {
   "cell_type": "markdown",
   "metadata": {},
   "source": [
    "## Atomic Weights and Ionization Energies\n",
    "\n",
    "To store more interesting data we are going to use **ingesters**. For each data source supported by Carsus there is a corresponding **ingester class**. \n",
    "\n",
    "For example, to ingest atomic weights from the NIST Atomic Weights and Isotopic Compositions database:"
   ]
  },
  {
   "cell_type": "code",
   "execution_count": 4,
   "metadata": {
    "execution": {
     "iopub.execute_input": "2022-04-28T15:26:12.097612Z",
     "iopub.status.busy": "2022-04-28T15:26:12.097424Z",
     "iopub.status.idle": "2022-04-28T15:26:13.334095Z",
     "shell.execute_reply": "2022-04-28T15:26:13.334262Z"
    }
   },
   "outputs": [
    {
     "name": "stdout",
     "output_type": "stream",
     "text": [
      " ChiantiPy version 0.8.4 \n"
     ]
    },
    {
     "name": "stdout",
     "output_type": "stream",
     "text": [
      " found PyQt5 widgets\n"
     ]
    },
    {
     "name": "stdout",
     "output_type": "stream",
     "text": [
      " using PyQt5 widgets\n"
     ]
    },
    {
     "name": "stdout",
     "output_type": "stream",
     "text": [
      "[\u001b[1m carsus.io.nist.weightscomp\u001b[0m][   \u001b[1;37mINFO\u001b[0m] - Downloading data from the NIST Atomic Weights and Isotopic Compositions Database. (\u001b[1mweightscomp.py\u001b[0m:49)\n"
     ]
    },
    {
     "name": "stdout",
     "output_type": "stream",
     "text": [
      "[\u001b[1m carsus.io.nist.weightscomp\u001b[0m][   \u001b[1;37mINFO\u001b[0m] - Ingesting atomic weights from `nist`. (\u001b[1mweightscomp.py\u001b[0m:174)\n"
     ]
    }
   ],
   "source": [
    "from carsus.io.nist import NISTWeightsCompIngester\n",
    "\n",
    "weightscomp_ingester = NISTWeightsCompIngester(session)\n",
    "weightscomp_ingester.ingest()\n",
    "\n",
    "session.commit()"
   ]
  },
  {
   "cell_type": "code",
   "execution_count": 5,
   "metadata": {
    "execution": {
     "iopub.execute_input": "2022-04-28T15:26:13.342142Z",
     "iopub.status.busy": "2022-04-28T15:26:13.341611Z",
     "iopub.status.idle": "2022-04-28T15:26:13.344308Z",
     "shell.execute_reply": "2022-04-28T15:26:13.343853Z"
    }
   },
   "outputs": [
    {
     "name": "stdout",
     "output_type": "stream",
     "text": [
      "[<Quantity: 28.085 u>]\n"
     ]
    }
   ],
   "source": [
    "print(si.weights)"
   ]
  },
  {
   "cell_type": "markdown",
   "metadata": {},
   "source": [
    "And the ionization energies from the NIST Atomic Spectra Database:"
   ]
  },
  {
   "cell_type": "code",
   "execution_count": 6,
   "metadata": {
    "execution": {
     "iopub.execute_input": "2022-04-28T15:26:13.348615Z",
     "iopub.status.busy": "2022-04-28T15:26:13.347869Z",
     "iopub.status.idle": "2022-04-28T15:26:14.021180Z",
     "shell.execute_reply": "2022-04-28T15:26:14.021388Z"
    }
   },
   "outputs": [
    {
     "name": "stdout",
     "output_type": "stream",
     "text": [
      "[\u001b[1m  carsus.io.nist.ionization\u001b[0m][   \u001b[1;37mINFO\u001b[0m] - Downloading ionization energies from the NIST Atomic Spectra Database. (\u001b[1mionization.py\u001b[0m:65)\n"
     ]
    },
    {
     "name": "stdout",
     "output_type": "stream",
     "text": [
      "[\u001b[1m  carsus.io.nist.ionization\u001b[0m][   \u001b[1;37mINFO\u001b[0m] - Ingesting ionization energies from `nist-asd`. (\u001b[1mionization.py\u001b[0m:239)\n"
     ]
    },
    {
     "name": "stdout",
     "output_type": "stream",
     "text": [
      "[\u001b[1m  carsus.io.nist.ionization\u001b[0m][   \u001b[1;37mINFO\u001b[0m] - Ingesting ground levels from `nist-asd`. (\u001b[1mionization.py\u001b[0m:261)\n"
     ]
    }
   ],
   "source": [
    "from carsus.io.nist import NISTIonizationEnergiesIngester\n",
    "\n",
    "ioniz_energies_ingester = NISTIonizationEnergiesIngester(session, spectra='H-Mg')\n",
    "ioniz_energies_ingester.ingest(ionization_energies=True, ground_levels=True)\n",
    "\n",
    "session.commit()"
   ]
  },
  {
   "cell_type": "markdown",
   "metadata": {},
   "source": [
    "## Levels, Lines and Collisions\n",
    "\n",
    "The Carsus SQL interface supports only two sources of energy levels and spectral lines: GFALL and CHIANTI. \n",
    "\n",
    "### GFALL\n",
    "\n",
    "The Robert Kurucz’s Atomic Linelist (GFALL) is the main source of levels and lines in Carsus."
   ]
  },
  {
   "cell_type": "code",
   "execution_count": 7,
   "metadata": {
    "execution": {
     "iopub.execute_input": "2022-04-28T15:26:14.025699Z",
     "iopub.status.busy": "2022-04-28T15:26:14.025477Z",
     "iopub.status.idle": "2022-04-28T15:28:29.078545Z",
     "shell.execute_reply": "2022-04-28T15:28:29.077948Z"
    }
   },
   "outputs": [
    {
     "name": "stdout",
     "output_type": "stream",
     "text": [
      "[\u001b[1m     carsus.io.kurucz.gfall\u001b[0m][\u001b[1;33mWARNING\u001b[0m] - A specific combination to identify unique levels from GFALL data has not been given. Defaulting to [\"energy\", \"j\"]. (\u001b[1mgfall.py\u001b[0m:95)\n"
     ]
    },
    {
     "name": "stdout",
     "output_type": "stream",
     "text": [
      "[\u001b[1m     carsus.io.kurucz.gfall\u001b[0m][   \u001b[1;37mINFO\u001b[0m] - Parsing GFALL from: http://kurucz.harvard.edu/linelists/gfall/gfall.dat (\u001b[1mgfall.py\u001b[0m:148)\n"
     ]
    },
    {
     "name": "stdout",
     "output_type": "stream",
     "text": [
      "[\u001b[1m     carsus.io.kurucz.gfall\u001b[0m][   \u001b[1;37mINFO\u001b[0m] - Ingesting levels from `ku_latest`. (\u001b[1mgfall.py\u001b[0m:488)\n"
     ]
    },
    {
     "name": "stdout",
     "output_type": "stream",
     "text": [
      "[\u001b[1m     carsus.io.kurucz.gfall\u001b[0m][   \u001b[1;37mINFO\u001b[0m] - Ingesting levels for He 0. (\u001b[1mgfall.py\u001b[0m:497)\n"
     ]
    },
    {
     "name": "stdout",
     "output_type": "stream",
     "text": [
      "[\u001b[1m     carsus.io.kurucz.gfall\u001b[0m][   \u001b[1;37mINFO\u001b[0m] - Ingesting levels for He 1. (\u001b[1mgfall.py\u001b[0m:497)\n"
     ]
    },
    {
     "name": "stdout",
     "output_type": "stream",
     "text": [
      "[\u001b[1m     carsus.io.kurucz.gfall\u001b[0m][   \u001b[1;37mINFO\u001b[0m] - Ingesting levels for Li 0. (\u001b[1mgfall.py\u001b[0m:497)\n"
     ]
    },
    {
     "name": "stdout",
     "output_type": "stream",
     "text": [
      "[\u001b[1m     carsus.io.kurucz.gfall\u001b[0m][   \u001b[1;37mINFO\u001b[0m] - Ingesting levels for Li 1. (\u001b[1mgfall.py\u001b[0m:497)\n"
     ]
    },
    {
     "name": "stdout",
     "output_type": "stream",
     "text": [
      "[\u001b[1m     carsus.io.kurucz.gfall\u001b[0m][   \u001b[1;37mINFO\u001b[0m] - Ingesting levels for Be 0. (\u001b[1mgfall.py\u001b[0m:497)\n"
     ]
    },
    {
     "name": "stdout",
     "output_type": "stream",
     "text": [
      "[\u001b[1m     carsus.io.kurucz.gfall\u001b[0m][   \u001b[1;37mINFO\u001b[0m] - Ingesting levels for Be 1. (\u001b[1mgfall.py\u001b[0m:497)\n"
     ]
    },
    {
     "name": "stdout",
     "output_type": "stream",
     "text": [
      "[\u001b[1m     carsus.io.kurucz.gfall\u001b[0m][   \u001b[1;37mINFO\u001b[0m] - Ingesting levels for Be 2. (\u001b[1mgfall.py\u001b[0m:497)\n"
     ]
    },
    {
     "name": "stdout",
     "output_type": "stream",
     "text": [
      "[\u001b[1m     carsus.io.kurucz.gfall\u001b[0m][   \u001b[1;37mINFO\u001b[0m] - Ingesting levels for B 0. (\u001b[1mgfall.py\u001b[0m:497)\n"
     ]
    },
    {
     "name": "stdout",
     "output_type": "stream",
     "text": [
      "[\u001b[1m     carsus.io.kurucz.gfall\u001b[0m][   \u001b[1;37mINFO\u001b[0m] - Ingesting levels for B 1. (\u001b[1mgfall.py\u001b[0m:497)\n"
     ]
    },
    {
     "name": "stdout",
     "output_type": "stream",
     "text": [
      "[\u001b[1m     carsus.io.kurucz.gfall\u001b[0m][   \u001b[1;37mINFO\u001b[0m] - Ingesting levels for B 2. (\u001b[1mgfall.py\u001b[0m:497)\n"
     ]
    },
    {
     "name": "stdout",
     "output_type": "stream",
     "text": [
      "[\u001b[1m     carsus.io.kurucz.gfall\u001b[0m][   \u001b[1;37mINFO\u001b[0m] - Ingesting levels for B 3. (\u001b[1mgfall.py\u001b[0m:497)\n"
     ]
    },
    {
     "name": "stdout",
     "output_type": "stream",
     "text": [
      "[\u001b[1m     carsus.io.kurucz.gfall\u001b[0m][   \u001b[1;37mINFO\u001b[0m] - Ingesting levels for C 0. (\u001b[1mgfall.py\u001b[0m:497)\n"
     ]
    },
    {
     "name": "stdout",
     "output_type": "stream",
     "text": [
      "[\u001b[1m     carsus.io.kurucz.gfall\u001b[0m][   \u001b[1;37mINFO\u001b[0m] - Ingesting levels for C 1. (\u001b[1mgfall.py\u001b[0m:497)\n"
     ]
    },
    {
     "name": "stdout",
     "output_type": "stream",
     "text": [
      "[\u001b[1m     carsus.io.kurucz.gfall\u001b[0m][   \u001b[1;37mINFO\u001b[0m] - Ingesting levels for C 2. (\u001b[1mgfall.py\u001b[0m:497)\n"
     ]
    },
    {
     "name": "stdout",
     "output_type": "stream",
     "text": [
      "[\u001b[1m     carsus.io.kurucz.gfall\u001b[0m][   \u001b[1;37mINFO\u001b[0m] - Ingesting levels for C 3. (\u001b[1mgfall.py\u001b[0m:497)\n"
     ]
    },
    {
     "name": "stdout",
     "output_type": "stream",
     "text": [
      "[\u001b[1m     carsus.io.kurucz.gfall\u001b[0m][   \u001b[1;37mINFO\u001b[0m] - Ingesting levels for N 0. (\u001b[1mgfall.py\u001b[0m:497)\n"
     ]
    },
    {
     "name": "stdout",
     "output_type": "stream",
     "text": [
      "[\u001b[1m     carsus.io.kurucz.gfall\u001b[0m][   \u001b[1;37mINFO\u001b[0m] - Ingesting levels for N 1. (\u001b[1mgfall.py\u001b[0m:497)\n"
     ]
    },
    {
     "name": "stdout",
     "output_type": "stream",
     "text": [
      "[\u001b[1m     carsus.io.kurucz.gfall\u001b[0m][   \u001b[1;37mINFO\u001b[0m] - Ingesting levels for N 2. (\u001b[1mgfall.py\u001b[0m:497)\n"
     ]
    },
    {
     "name": "stdout",
     "output_type": "stream",
     "text": [
      "[\u001b[1m     carsus.io.kurucz.gfall\u001b[0m][   \u001b[1;37mINFO\u001b[0m] - Ingesting levels for N 3. (\u001b[1mgfall.py\u001b[0m:497)\n"
     ]
    },
    {
     "name": "stdout",
     "output_type": "stream",
     "text": [
      "[\u001b[1m     carsus.io.kurucz.gfall\u001b[0m][   \u001b[1;37mINFO\u001b[0m] - Ingesting levels for N 4. (\u001b[1mgfall.py\u001b[0m:497)\n"
     ]
    },
    {
     "name": "stdout",
     "output_type": "stream",
     "text": [
      "[\u001b[1m     carsus.io.kurucz.gfall\u001b[0m][   \u001b[1;37mINFO\u001b[0m] - Ingesting levels for N 5. (\u001b[1mgfall.py\u001b[0m:497)\n"
     ]
    },
    {
     "name": "stdout",
     "output_type": "stream",
     "text": [
      "[\u001b[1m     carsus.io.kurucz.gfall\u001b[0m][   \u001b[1;37mINFO\u001b[0m] - Ingesting levels for O 0. (\u001b[1mgfall.py\u001b[0m:497)\n"
     ]
    },
    {
     "name": "stdout",
     "output_type": "stream",
     "text": [
      "[\u001b[1m     carsus.io.kurucz.gfall\u001b[0m][   \u001b[1;37mINFO\u001b[0m] - Ingesting levels for O 1. (\u001b[1mgfall.py\u001b[0m:497)\n"
     ]
    },
    {
     "name": "stdout",
     "output_type": "stream",
     "text": [
      "[\u001b[1m     carsus.io.kurucz.gfall\u001b[0m][   \u001b[1;37mINFO\u001b[0m] - Ingesting levels for O 2. (\u001b[1mgfall.py\u001b[0m:497)\n"
     ]
    },
    {
     "name": "stdout",
     "output_type": "stream",
     "text": [
      "[\u001b[1m     carsus.io.kurucz.gfall\u001b[0m][   \u001b[1;37mINFO\u001b[0m] - Ingesting levels for O 3. (\u001b[1mgfall.py\u001b[0m:497)\n"
     ]
    },
    {
     "name": "stdout",
     "output_type": "stream",
     "text": [
      "[\u001b[1m     carsus.io.kurucz.gfall\u001b[0m][   \u001b[1;37mINFO\u001b[0m] - Ingesting levels for O 4. (\u001b[1mgfall.py\u001b[0m:497)\n"
     ]
    },
    {
     "name": "stdout",
     "output_type": "stream",
     "text": [
      "[\u001b[1m     carsus.io.kurucz.gfall\u001b[0m][   \u001b[1;37mINFO\u001b[0m] - Ingesting levels for O 5. (\u001b[1mgfall.py\u001b[0m:497)\n"
     ]
    },
    {
     "name": "stdout",
     "output_type": "stream",
     "text": [
      "[\u001b[1m     carsus.io.kurucz.gfall\u001b[0m][   \u001b[1;37mINFO\u001b[0m] - Ingesting levels for F 0. (\u001b[1mgfall.py\u001b[0m:497)\n"
     ]
    },
    {
     "name": "stdout",
     "output_type": "stream",
     "text": [
      "[\u001b[1m     carsus.io.kurucz.gfall\u001b[0m][   \u001b[1;37mINFO\u001b[0m] - Ingesting levels for F 1. (\u001b[1mgfall.py\u001b[0m:497)\n"
     ]
    },
    {
     "name": "stdout",
     "output_type": "stream",
     "text": [
      "[\u001b[1m     carsus.io.kurucz.gfall\u001b[0m][   \u001b[1;37mINFO\u001b[0m] - Ingesting levels for F 2. (\u001b[1mgfall.py\u001b[0m:497)\n"
     ]
    },
    {
     "name": "stdout",
     "output_type": "stream",
     "text": [
      "[\u001b[1m     carsus.io.kurucz.gfall\u001b[0m][   \u001b[1;37mINFO\u001b[0m] - Ingesting levels for F 3. (\u001b[1mgfall.py\u001b[0m:497)\n"
     ]
    },
    {
     "name": "stdout",
     "output_type": "stream",
     "text": [
      "[\u001b[1m     carsus.io.kurucz.gfall\u001b[0m][   \u001b[1;37mINFO\u001b[0m] - Ingesting levels for F 4. (\u001b[1mgfall.py\u001b[0m:497)\n"
     ]
    },
    {
     "name": "stdout",
     "output_type": "stream",
     "text": [
      "[\u001b[1m     carsus.io.kurucz.gfall\u001b[0m][   \u001b[1;37mINFO\u001b[0m] - Ingesting levels for F 5. (\u001b[1mgfall.py\u001b[0m:497)\n"
     ]
    },
    {
     "name": "stdout",
     "output_type": "stream",
     "text": [
      "[\u001b[1m     carsus.io.kurucz.gfall\u001b[0m][   \u001b[1;37mINFO\u001b[0m] - Ingesting levels for Ne 0. (\u001b[1mgfall.py\u001b[0m:497)\n"
     ]
    },
    {
     "name": "stdout",
     "output_type": "stream",
     "text": [
      "[\u001b[1m     carsus.io.kurucz.gfall\u001b[0m][   \u001b[1;37mINFO\u001b[0m] - Ingesting levels for Ne 1. (\u001b[1mgfall.py\u001b[0m:497)\n"
     ]
    },
    {
     "name": "stdout",
     "output_type": "stream",
     "text": [
      "[\u001b[1m     carsus.io.kurucz.gfall\u001b[0m][   \u001b[1;37mINFO\u001b[0m] - Ingesting levels for Ne 2. (\u001b[1mgfall.py\u001b[0m:497)\n"
     ]
    },
    {
     "name": "stdout",
     "output_type": "stream",
     "text": [
      "[\u001b[1m     carsus.io.kurucz.gfall\u001b[0m][   \u001b[1;37mINFO\u001b[0m] - Ingesting levels for Ne 3. (\u001b[1mgfall.py\u001b[0m:497)\n"
     ]
    },
    {
     "name": "stdout",
     "output_type": "stream",
     "text": [
      "[\u001b[1m     carsus.io.kurucz.gfall\u001b[0m][   \u001b[1;37mINFO\u001b[0m] - Ingesting levels for Ne 4. (\u001b[1mgfall.py\u001b[0m:497)\n"
     ]
    },
    {
     "name": "stdout",
     "output_type": "stream",
     "text": [
      "[\u001b[1m     carsus.io.kurucz.gfall\u001b[0m][   \u001b[1;37mINFO\u001b[0m] - Ingesting levels for Ne 5. (\u001b[1mgfall.py\u001b[0m:497)\n"
     ]
    },
    {
     "name": "stdout",
     "output_type": "stream",
     "text": [
      "[\u001b[1m     carsus.io.kurucz.gfall\u001b[0m][   \u001b[1;37mINFO\u001b[0m] - Ingesting levels for Na 0. (\u001b[1mgfall.py\u001b[0m:497)\n"
     ]
    },
    {
     "name": "stdout",
     "output_type": "stream",
     "text": [
      "[\u001b[1m     carsus.io.kurucz.gfall\u001b[0m][   \u001b[1;37mINFO\u001b[0m] - Ingesting levels for Na 1. (\u001b[1mgfall.py\u001b[0m:497)\n"
     ]
    },
    {
     "name": "stdout",
     "output_type": "stream",
     "text": [
      "[\u001b[1m     carsus.io.kurucz.gfall\u001b[0m][   \u001b[1;37mINFO\u001b[0m] - Ingesting levels for Na 2. (\u001b[1mgfall.py\u001b[0m:497)\n"
     ]
    },
    {
     "name": "stdout",
     "output_type": "stream",
     "text": [
      "[\u001b[1m     carsus.io.kurucz.gfall\u001b[0m][   \u001b[1;37mINFO\u001b[0m] - Ingesting levels for Na 3. (\u001b[1mgfall.py\u001b[0m:497)\n"
     ]
    },
    {
     "name": "stdout",
     "output_type": "stream",
     "text": [
      "[\u001b[1m     carsus.io.kurucz.gfall\u001b[0m][   \u001b[1;37mINFO\u001b[0m] - Ingesting levels for Na 4. (\u001b[1mgfall.py\u001b[0m:497)\n"
     ]
    },
    {
     "name": "stdout",
     "output_type": "stream",
     "text": [
      "[\u001b[1m     carsus.io.kurucz.gfall\u001b[0m][   \u001b[1;37mINFO\u001b[0m] - Ingesting levels for Na 5. (\u001b[1mgfall.py\u001b[0m:497)\n"
     ]
    },
    {
     "name": "stdout",
     "output_type": "stream",
     "text": [
      "[\u001b[1m     carsus.io.kurucz.gfall\u001b[0m][   \u001b[1;37mINFO\u001b[0m] - Ingesting levels for Mg 0. (\u001b[1mgfall.py\u001b[0m:497)\n"
     ]
    },
    {
     "name": "stdout",
     "output_type": "stream",
     "text": [
      "[\u001b[1m     carsus.io.kurucz.gfall\u001b[0m][   \u001b[1;37mINFO\u001b[0m] - Ingesting levels for Mg 1. (\u001b[1mgfall.py\u001b[0m:497)\n"
     ]
    },
    {
     "name": "stdout",
     "output_type": "stream",
     "text": [
      "[\u001b[1m     carsus.io.kurucz.gfall\u001b[0m][   \u001b[1;37mINFO\u001b[0m] - Ingesting levels for Mg 2. (\u001b[1mgfall.py\u001b[0m:497)\n"
     ]
    },
    {
     "name": "stdout",
     "output_type": "stream",
     "text": [
      "[\u001b[1m     carsus.io.kurucz.gfall\u001b[0m][   \u001b[1;37mINFO\u001b[0m] - Ingesting levels for Mg 3. (\u001b[1mgfall.py\u001b[0m:497)\n"
     ]
    },
    {
     "name": "stdout",
     "output_type": "stream",
     "text": [
      "[\u001b[1m     carsus.io.kurucz.gfall\u001b[0m][   \u001b[1;37mINFO\u001b[0m] - Ingesting levels for Mg 4. (\u001b[1mgfall.py\u001b[0m:497)\n"
     ]
    },
    {
     "name": "stdout",
     "output_type": "stream",
     "text": [
      "[\u001b[1m     carsus.io.kurucz.gfall\u001b[0m][   \u001b[1;37mINFO\u001b[0m] - Ingesting levels for Mg 5. (\u001b[1mgfall.py\u001b[0m:497)\n"
     ]
    },
    {
     "name": "stdout",
     "output_type": "stream",
     "text": [
      "[\u001b[1m     carsus.io.kurucz.gfall\u001b[0m][   \u001b[1;37mINFO\u001b[0m] - Extracting line data: atomic_number, ion_charge, energy_lower, j_lower, energy_upper, j_upper, wavelength, loggf. (\u001b[1mgfall.py\u001b[0m:352)\n"
     ]
    },
    {
     "name": "stdout",
     "output_type": "stream",
     "text": [
      "[\u001b[1m     carsus.io.kurucz.gfall\u001b[0m][   \u001b[1;37mINFO\u001b[0m] - Ingesting lines from `ku_latest`. (\u001b[1mgfall.py\u001b[0m:528)\n"
     ]
    },
    {
     "name": "stdout",
     "output_type": "stream",
     "text": [
      "[\u001b[1m     carsus.io.kurucz.gfall\u001b[0m][   \u001b[1;37mINFO\u001b[0m] - Ingesting lines for He 0. (\u001b[1mgfall.py\u001b[0m:537)\n"
     ]
    },
    {
     "name": "stdout",
     "output_type": "stream",
     "text": [
      "[\u001b[1m     carsus.io.kurucz.gfall\u001b[0m][   \u001b[1;37mINFO\u001b[0m] - Ingesting lines for He 1. (\u001b[1mgfall.py\u001b[0m:537)\n"
     ]
    },
    {
     "name": "stdout",
     "output_type": "stream",
     "text": [
      "[\u001b[1m     carsus.io.kurucz.gfall\u001b[0m][   \u001b[1;37mINFO\u001b[0m] - Ingesting lines for Li 0. (\u001b[1mgfall.py\u001b[0m:537)\n"
     ]
    },
    {
     "name": "stdout",
     "output_type": "stream",
     "text": [
      "[\u001b[1m     carsus.io.kurucz.gfall\u001b[0m][   \u001b[1;37mINFO\u001b[0m] - Ingesting lines for Li 1. (\u001b[1mgfall.py\u001b[0m:537)\n"
     ]
    },
    {
     "name": "stdout",
     "output_type": "stream",
     "text": [
      "[\u001b[1m     carsus.io.kurucz.gfall\u001b[0m][   \u001b[1;37mINFO\u001b[0m] - Ingesting lines for Be 0. (\u001b[1mgfall.py\u001b[0m:537)\n"
     ]
    },
    {
     "name": "stdout",
     "output_type": "stream",
     "text": [
      "[\u001b[1m     carsus.io.kurucz.gfall\u001b[0m][   \u001b[1;37mINFO\u001b[0m] - Ingesting lines for Be 1. (\u001b[1mgfall.py\u001b[0m:537)\n"
     ]
    },
    {
     "name": "stdout",
     "output_type": "stream",
     "text": [
      "[\u001b[1m     carsus.io.kurucz.gfall\u001b[0m][   \u001b[1;37mINFO\u001b[0m] - Ingesting lines for Be 2. (\u001b[1mgfall.py\u001b[0m:537)\n"
     ]
    },
    {
     "name": "stdout",
     "output_type": "stream",
     "text": [
      "[\u001b[1m     carsus.io.kurucz.gfall\u001b[0m][   \u001b[1;37mINFO\u001b[0m] - Ingesting lines for B 0. (\u001b[1mgfall.py\u001b[0m:537)\n"
     ]
    },
    {
     "name": "stdout",
     "output_type": "stream",
     "text": [
      "[\u001b[1m     carsus.io.kurucz.gfall\u001b[0m][   \u001b[1;37mINFO\u001b[0m] - Ingesting lines for B 1. (\u001b[1mgfall.py\u001b[0m:537)\n"
     ]
    },
    {
     "name": "stdout",
     "output_type": "stream",
     "text": [
      "[\u001b[1m     carsus.io.kurucz.gfall\u001b[0m][   \u001b[1;37mINFO\u001b[0m] - Ingesting lines for B 2. (\u001b[1mgfall.py\u001b[0m:537)\n"
     ]
    },
    {
     "name": "stdout",
     "output_type": "stream",
     "text": [
      "[\u001b[1m     carsus.io.kurucz.gfall\u001b[0m][   \u001b[1;37mINFO\u001b[0m] - Ingesting lines for B 3. (\u001b[1mgfall.py\u001b[0m:537)\n"
     ]
    },
    {
     "name": "stdout",
     "output_type": "stream",
     "text": [
      "[\u001b[1m     carsus.io.kurucz.gfall\u001b[0m][   \u001b[1;37mINFO\u001b[0m] - Ingesting lines for C 0. (\u001b[1mgfall.py\u001b[0m:537)\n"
     ]
    },
    {
     "name": "stdout",
     "output_type": "stream",
     "text": [
      "[\u001b[1m     carsus.io.kurucz.gfall\u001b[0m][   \u001b[1;37mINFO\u001b[0m] - Ingesting lines for C 1. (\u001b[1mgfall.py\u001b[0m:537)\n"
     ]
    },
    {
     "name": "stdout",
     "output_type": "stream",
     "text": [
      "[\u001b[1m     carsus.io.kurucz.gfall\u001b[0m][   \u001b[1;37mINFO\u001b[0m] - Ingesting lines for C 2. (\u001b[1mgfall.py\u001b[0m:537)\n"
     ]
    },
    {
     "name": "stdout",
     "output_type": "stream",
     "text": [
      "[\u001b[1m     carsus.io.kurucz.gfall\u001b[0m][   \u001b[1;37mINFO\u001b[0m] - Ingesting lines for C 3. (\u001b[1mgfall.py\u001b[0m:537)\n"
     ]
    },
    {
     "name": "stdout",
     "output_type": "stream",
     "text": [
      "[\u001b[1m     carsus.io.kurucz.gfall\u001b[0m][   \u001b[1;37mINFO\u001b[0m] - Ingesting lines for N 0. (\u001b[1mgfall.py\u001b[0m:537)\n"
     ]
    },
    {
     "name": "stdout",
     "output_type": "stream",
     "text": [
      "[\u001b[1m     carsus.io.kurucz.gfall\u001b[0m][   \u001b[1;37mINFO\u001b[0m] - Ingesting lines for N 1. (\u001b[1mgfall.py\u001b[0m:537)\n"
     ]
    },
    {
     "name": "stdout",
     "output_type": "stream",
     "text": [
      "[\u001b[1m     carsus.io.kurucz.gfall\u001b[0m][   \u001b[1;37mINFO\u001b[0m] - Ingesting lines for N 2. (\u001b[1mgfall.py\u001b[0m:537)\n"
     ]
    },
    {
     "name": "stdout",
     "output_type": "stream",
     "text": [
      "[\u001b[1m     carsus.io.kurucz.gfall\u001b[0m][   \u001b[1;37mINFO\u001b[0m] - Ingesting lines for N 3. (\u001b[1mgfall.py\u001b[0m:537)\n"
     ]
    },
    {
     "name": "stdout",
     "output_type": "stream",
     "text": [
      "[\u001b[1m     carsus.io.kurucz.gfall\u001b[0m][   \u001b[1;37mINFO\u001b[0m] - Ingesting lines for N 4. (\u001b[1mgfall.py\u001b[0m:537)\n"
     ]
    },
    {
     "name": "stdout",
     "output_type": "stream",
     "text": [
      "[\u001b[1m     carsus.io.kurucz.gfall\u001b[0m][   \u001b[1;37mINFO\u001b[0m] - Ingesting lines for N 5. (\u001b[1mgfall.py\u001b[0m:537)\n"
     ]
    },
    {
     "name": "stdout",
     "output_type": "stream",
     "text": [
      "[\u001b[1m     carsus.io.kurucz.gfall\u001b[0m][   \u001b[1;37mINFO\u001b[0m] - Ingesting lines for O 0. (\u001b[1mgfall.py\u001b[0m:537)\n"
     ]
    },
    {
     "name": "stdout",
     "output_type": "stream",
     "text": [
      "[\u001b[1m     carsus.io.kurucz.gfall\u001b[0m][   \u001b[1;37mINFO\u001b[0m] - Ingesting lines for O 1. (\u001b[1mgfall.py\u001b[0m:537)\n"
     ]
    },
    {
     "name": "stdout",
     "output_type": "stream",
     "text": [
      "[\u001b[1m     carsus.io.kurucz.gfall\u001b[0m][   \u001b[1;37mINFO\u001b[0m] - Ingesting lines for O 2. (\u001b[1mgfall.py\u001b[0m:537)\n"
     ]
    },
    {
     "name": "stdout",
     "output_type": "stream",
     "text": [
      "[\u001b[1m     carsus.io.kurucz.gfall\u001b[0m][   \u001b[1;37mINFO\u001b[0m] - Ingesting lines for O 3. (\u001b[1mgfall.py\u001b[0m:537)\n"
     ]
    },
    {
     "name": "stdout",
     "output_type": "stream",
     "text": [
      "[\u001b[1m     carsus.io.kurucz.gfall\u001b[0m][   \u001b[1;37mINFO\u001b[0m] - Ingesting lines for O 4. (\u001b[1mgfall.py\u001b[0m:537)\n"
     ]
    },
    {
     "name": "stdout",
     "output_type": "stream",
     "text": [
      "[\u001b[1m     carsus.io.kurucz.gfall\u001b[0m][   \u001b[1;37mINFO\u001b[0m] - Ingesting lines for O 5. (\u001b[1mgfall.py\u001b[0m:537)\n"
     ]
    },
    {
     "name": "stdout",
     "output_type": "stream",
     "text": [
      "[\u001b[1m     carsus.io.kurucz.gfall\u001b[0m][   \u001b[1;37mINFO\u001b[0m] - Ingesting lines for F 0. (\u001b[1mgfall.py\u001b[0m:537)\n"
     ]
    },
    {
     "name": "stdout",
     "output_type": "stream",
     "text": [
      "[\u001b[1m     carsus.io.kurucz.gfall\u001b[0m][   \u001b[1;37mINFO\u001b[0m] - Ingesting lines for F 1. (\u001b[1mgfall.py\u001b[0m:537)\n"
     ]
    },
    {
     "name": "stdout",
     "output_type": "stream",
     "text": [
      "[\u001b[1m     carsus.io.kurucz.gfall\u001b[0m][   \u001b[1;37mINFO\u001b[0m] - Ingesting lines for F 2. (\u001b[1mgfall.py\u001b[0m:537)\n"
     ]
    },
    {
     "name": "stdout",
     "output_type": "stream",
     "text": [
      "[\u001b[1m     carsus.io.kurucz.gfall\u001b[0m][   \u001b[1;37mINFO\u001b[0m] - Ingesting lines for F 3. (\u001b[1mgfall.py\u001b[0m:537)\n"
     ]
    },
    {
     "name": "stdout",
     "output_type": "stream",
     "text": [
      "[\u001b[1m     carsus.io.kurucz.gfall\u001b[0m][   \u001b[1;37mINFO\u001b[0m] - Ingesting lines for F 4. (\u001b[1mgfall.py\u001b[0m:537)\n"
     ]
    },
    {
     "name": "stdout",
     "output_type": "stream",
     "text": [
      "[\u001b[1m     carsus.io.kurucz.gfall\u001b[0m][   \u001b[1;37mINFO\u001b[0m] - Ingesting lines for F 5. (\u001b[1mgfall.py\u001b[0m:537)\n"
     ]
    },
    {
     "name": "stdout",
     "output_type": "stream",
     "text": [
      "[\u001b[1m     carsus.io.kurucz.gfall\u001b[0m][   \u001b[1;37mINFO\u001b[0m] - Ingesting lines for Ne 0. (\u001b[1mgfall.py\u001b[0m:537)\n"
     ]
    },
    {
     "name": "stdout",
     "output_type": "stream",
     "text": [
      "[\u001b[1m     carsus.io.kurucz.gfall\u001b[0m][   \u001b[1;37mINFO\u001b[0m] - Ingesting lines for Ne 1. (\u001b[1mgfall.py\u001b[0m:537)\n"
     ]
    },
    {
     "name": "stdout",
     "output_type": "stream",
     "text": [
      "[\u001b[1m     carsus.io.kurucz.gfall\u001b[0m][   \u001b[1;37mINFO\u001b[0m] - Ingesting lines for Ne 2. (\u001b[1mgfall.py\u001b[0m:537)\n"
     ]
    },
    {
     "name": "stdout",
     "output_type": "stream",
     "text": [
      "[\u001b[1m     carsus.io.kurucz.gfall\u001b[0m][   \u001b[1;37mINFO\u001b[0m] - Ingesting lines for Ne 3. (\u001b[1mgfall.py\u001b[0m:537)\n"
     ]
    },
    {
     "name": "stdout",
     "output_type": "stream",
     "text": [
      "[\u001b[1m     carsus.io.kurucz.gfall\u001b[0m][   \u001b[1;37mINFO\u001b[0m] - Ingesting lines for Ne 4. (\u001b[1mgfall.py\u001b[0m:537)\n"
     ]
    },
    {
     "name": "stdout",
     "output_type": "stream",
     "text": [
      "[\u001b[1m     carsus.io.kurucz.gfall\u001b[0m][   \u001b[1;37mINFO\u001b[0m] - Ingesting lines for Ne 5. (\u001b[1mgfall.py\u001b[0m:537)\n"
     ]
    },
    {
     "name": "stdout",
     "output_type": "stream",
     "text": [
      "[\u001b[1m     carsus.io.kurucz.gfall\u001b[0m][   \u001b[1;37mINFO\u001b[0m] - Ingesting lines for Na 0. (\u001b[1mgfall.py\u001b[0m:537)\n"
     ]
    },
    {
     "name": "stdout",
     "output_type": "stream",
     "text": [
      "[\u001b[1m     carsus.io.kurucz.gfall\u001b[0m][   \u001b[1;37mINFO\u001b[0m] - Ingesting lines for Na 1. (\u001b[1mgfall.py\u001b[0m:537)\n"
     ]
    },
    {
     "name": "stdout",
     "output_type": "stream",
     "text": [
      "[\u001b[1m     carsus.io.kurucz.gfall\u001b[0m][   \u001b[1;37mINFO\u001b[0m] - Ingesting lines for Na 2. (\u001b[1mgfall.py\u001b[0m:537)\n"
     ]
    },
    {
     "name": "stdout",
     "output_type": "stream",
     "text": [
      "[\u001b[1m     carsus.io.kurucz.gfall\u001b[0m][   \u001b[1;37mINFO\u001b[0m] - Ingesting lines for Na 3. (\u001b[1mgfall.py\u001b[0m:537)\n"
     ]
    },
    {
     "name": "stdout",
     "output_type": "stream",
     "text": [
      "[\u001b[1m     carsus.io.kurucz.gfall\u001b[0m][   \u001b[1;37mINFO\u001b[0m] - Ingesting lines for Na 4. (\u001b[1mgfall.py\u001b[0m:537)\n"
     ]
    },
    {
     "name": "stdout",
     "output_type": "stream",
     "text": [
      "[\u001b[1m     carsus.io.kurucz.gfall\u001b[0m][   \u001b[1;37mINFO\u001b[0m] - Ingesting lines for Na 5. (\u001b[1mgfall.py\u001b[0m:537)\n"
     ]
    },
    {
     "name": "stdout",
     "output_type": "stream",
     "text": [
      "[\u001b[1m     carsus.io.kurucz.gfall\u001b[0m][   \u001b[1;37mINFO\u001b[0m] - Ingesting lines for Mg 0. (\u001b[1mgfall.py\u001b[0m:537)\n"
     ]
    },
    {
     "name": "stdout",
     "output_type": "stream",
     "text": [
      "[\u001b[1m     carsus.io.kurucz.gfall\u001b[0m][   \u001b[1;37mINFO\u001b[0m] - Ingesting lines for Mg 1. (\u001b[1mgfall.py\u001b[0m:537)\n"
     ]
    },
    {
     "name": "stdout",
     "output_type": "stream",
     "text": [
      "[\u001b[1m     carsus.io.kurucz.gfall\u001b[0m][   \u001b[1;37mINFO\u001b[0m] - Ingesting lines for Mg 2. (\u001b[1mgfall.py\u001b[0m:537)\n"
     ]
    },
    {
     "name": "stdout",
     "output_type": "stream",
     "text": [
      "[\u001b[1m     carsus.io.kurucz.gfall\u001b[0m][   \u001b[1;37mINFO\u001b[0m] - Ingesting lines for Mg 3. (\u001b[1mgfall.py\u001b[0m:537)\n"
     ]
    },
    {
     "name": "stdout",
     "output_type": "stream",
     "text": [
      "[\u001b[1m     carsus.io.kurucz.gfall\u001b[0m][   \u001b[1;37mINFO\u001b[0m] - Ingesting lines for Mg 4. (\u001b[1mgfall.py\u001b[0m:537)\n"
     ]
    },
    {
     "name": "stdout",
     "output_type": "stream",
     "text": [
      "[\u001b[1m     carsus.io.kurucz.gfall\u001b[0m][   \u001b[1;37mINFO\u001b[0m] - Ingesting lines for Mg 5. (\u001b[1mgfall.py\u001b[0m:537)\n"
     ]
    }
   ],
   "source": [
    "from carsus.io.kurucz import GFALLIngester\n",
    "\n",
    "gfall_url = 'http://kurucz.harvard.edu/linelists/gfall/gfall.dat'\n",
    "gfall_ingester = GFALLIngester(session, fname=gfall_url, ions='H-Mg')\n",
    "gfall_ingester.ingest(levels=True, lines=True)\n",
    "\n",
    "session.commit()"
   ]
  },
  {
   "cell_type": "markdown",
   "metadata": {},
   "source": [
    "### CHIANTI\n",
    "\n",
    "The Chianti Atomic Database is also a source of collision strengths."
   ]
  },
  {
   "cell_type": "code",
   "execution_count": 8,
   "metadata": {
    "execution": {
     "iopub.execute_input": "2022-04-28T15:28:29.086965Z",
     "iopub.status.busy": "2022-04-28T15:28:29.085195Z",
     "iopub.status.idle": "2022-04-28T15:28:31.998933Z",
     "shell.execute_reply": "2022-04-28T15:28:31.999106Z"
    }
   },
   "outputs": [
    {
     "name": "stdout",
     "output_type": "stream",
     "text": [
      "[\u001b[1mcarsus.io.chianti_.chianti_\u001b[0m][   \u001b[1;37mINFO\u001b[0m] - Ingesting levels from `chianti_v9.0.1`. (\u001b[1mchianti_.py\u001b[0m:349)\n"
     ]
    },
    {
     "name": "stdout",
     "output_type": "stream",
     "text": [
      "[\u001b[1mcarsus.io.chianti_.chianti_\u001b[0m][   \u001b[1;37mINFO\u001b[0m] - Ingesting levels for O 0. (\u001b[1mchianti_.py\u001b[0m:367)\n"
     ]
    },
    {
     "name": "stdout",
     "output_type": "stream",
     "text": [
      "[\u001b[1mcarsus.io.chianti_.chianti_\u001b[0m][   \u001b[1;37mINFO\u001b[0m] - Ingesting levels for O 1. (\u001b[1mchianti_.py\u001b[0m:367)\n"
     ]
    },
    {
     "name": "stdout",
     "output_type": "stream",
     "text": [
      "[\u001b[1mcarsus.io.chianti_.chianti_\u001b[0m][   \u001b[1;37mINFO\u001b[0m] - Ingesting levels for O 2. (\u001b[1mchianti_.py\u001b[0m:367)\n"
     ]
    },
    {
     "name": "stdout",
     "output_type": "stream",
     "text": [
      "[\u001b[1mcarsus.io.chianti_.chianti_\u001b[0m][   \u001b[1;37mINFO\u001b[0m] - Ingesting lines from `chianti_v9.0.1`. (\u001b[1mchianti_.py\u001b[0m:391)\n"
     ]
    },
    {
     "name": "stdout",
     "output_type": "stream",
     "text": [
      "[\u001b[1mcarsus.io.chianti_.chianti_\u001b[0m][   \u001b[1;37mINFO\u001b[0m] - Ingesting lines for O 0. (\u001b[1mchianti_.py\u001b[0m:409)\n"
     ]
    },
    {
     "name": "stdout",
     "output_type": "stream",
     "text": [
      "[\u001b[1mcarsus.io.chianti_.chianti_\u001b[0m][   \u001b[1;37mINFO\u001b[0m] - Ingesting lines for O 1. (\u001b[1mchianti_.py\u001b[0m:409)\n"
     ]
    },
    {
     "name": "stdout",
     "output_type": "stream",
     "text": [
      "[\u001b[1mcarsus.io.chianti_.chianti_\u001b[0m][   \u001b[1;37mINFO\u001b[0m] - Ingesting lines for O 2. (\u001b[1mchianti_.py\u001b[0m:409)\n"
     ]
    },
    {
     "name": "stdout",
     "output_type": "stream",
     "text": [
      "[\u001b[1mcarsus.io.chianti_.chianti_\u001b[0m][   \u001b[1;37mINFO\u001b[0m] - Ingesting collisions from `chianti_v9.0.1`. (\u001b[1mchianti_.py\u001b[0m:451)\n"
     ]
    },
    {
     "name": "stdout",
     "output_type": "stream",
     "text": [
      "[\u001b[1mcarsus.io.chianti_.chianti_\u001b[0m][   \u001b[1;37mINFO\u001b[0m] - Ingesting collisions for O 0. (\u001b[1mchianti_.py\u001b[0m:469)\n"
     ]
    },
    {
     "name": "stdout",
     "output_type": "stream",
     "text": [
      "[\u001b[1mcarsus.io.chianti_.chianti_\u001b[0m][   \u001b[1;37mINFO\u001b[0m] - Ingesting collisions for O 1. (\u001b[1mchianti_.py\u001b[0m:469)\n"
     ]
    },
    {
     "name": "stdout",
     "output_type": "stream",
     "text": [
      "[\u001b[1mcarsus.io.chianti_.chianti_\u001b[0m][   \u001b[1;37mINFO\u001b[0m] - Ingesting collisions for O 2. (\u001b[1mchianti_.py\u001b[0m:469)\n"
     ]
    }
   ],
   "source": [
    "from carsus.io.chianti_ import ChiantiIngester\n",
    "\n",
    "chianti_ingester = ChiantiIngester(session, ions='O 0-2')\n",
    "chianti_ingester.ingest(levels=True, lines=True, collisions=True)\n",
    "\n",
    "session.commit()"
   ]
  },
  {
   "cell_type": "markdown",
   "metadata": {},
   "source": [
    "## Zeta Data\n",
    "\n",
    "The Knox S. Long’s ground state recombinations fractions ($\\zeta$)."
   ]
  },
  {
   "cell_type": "code",
   "execution_count": 9,
   "metadata": {
    "execution": {
     "iopub.execute_input": "2022-04-28T15:28:32.004216Z",
     "iopub.status.busy": "2022-04-28T15:28:32.003715Z",
     "iopub.status.idle": "2022-04-28T15:28:33.474981Z",
     "shell.execute_reply": "2022-04-28T15:28:33.474753Z"
    }
   },
   "outputs": [],
   "source": [
    "from carsus.io.zeta import KnoxLongZetaIngester\n",
    "\n",
    "zeta_url = 'https://raw.githubusercontent.com/tardis-sn/carsus/master/carsus/data/knox_long_recombination_zeta.dat'\n",
    "zeta_ingester = KnoxLongZetaIngester(session, zeta_url)\n",
    "zeta_ingester.ingest()\n",
    "\n",
    "session.commit()"
   ]
  },
  {
   "cell_type": "markdown",
   "metadata": {},
   "source": [
    "## Dump to HDF5\n",
    "\n",
    "Once you have a database, it's very easy to create atomic data files for TARDIS using a special class called `AtomData`. This class takes `session` as its first argument; other important parameters are `selected_atoms` and `chianti_ions` (if any). \n",
    "\n",
    "Only data for `selected_atoms` will be stored in the output DataFrames and levels and lines for `chianti_ions` will be taken from the data source with the same name."
   ]
  },
  {
   "cell_type": "code",
   "execution_count": 10,
   "metadata": {
    "execution": {
     "iopub.execute_input": "2022-04-28T15:28:33.481344Z",
     "iopub.status.busy": "2022-04-28T15:28:33.480802Z",
     "iopub.status.idle": "2022-04-28T15:28:33.483272Z",
     "shell.execute_reply": "2022-04-28T15:28:33.483107Z"
    }
   },
   "outputs": [],
   "source": [
    "from carsus.io.output import AtomData\n",
    "atom_data = AtomData(session, \n",
    "                     selected_atoms='H-Mg', \n",
    "                     chianti_short_name='chianti_v9.0.1', \n",
    "                     chianti_ions='O 0-2')"
   ]
  },
  {
   "cell_type": "markdown",
   "metadata": {},
   "source": [
    "<div class=\"alert alert-warning\">\n",
    "\n",
    "**Warning:** \n",
    "    \n",
    "If `chianti_short_name` does NOT match with your current version of Chianti DB the above command will fail.\n",
    "\n",
    "</div>\n",
    "\n",
    "\n",
    "The stored DataFrames can be easily accessed as attributes of `atom_data`:"
   ]
  },
  {
   "cell_type": "code",
   "execution_count": 11,
   "metadata": {
    "execution": {
     "iopub.execute_input": "2022-04-28T15:28:33.488163Z",
     "iopub.status.busy": "2022-04-28T15:28:33.487958Z",
     "iopub.status.idle": "2022-04-28T15:28:33.501387Z",
     "shell.execute_reply": "2022-04-28T15:28:33.501205Z"
    }
   },
   "outputs": [
    {
     "data": {
      "text/html": [
       "<div>\n",
       "<style scoped>\n",
       "    .dataframe tbody tr th:only-of-type {\n",
       "        vertical-align: middle;\n",
       "    }\n",
       "\n",
       "    .dataframe tbody tr th {\n",
       "        vertical-align: top;\n",
       "    }\n",
       "\n",
       "    .dataframe thead th {\n",
       "        text-align: right;\n",
       "    }\n",
       "</style>\n",
       "<table border=\"1\" class=\"dataframe\">\n",
       "  <thead>\n",
       "    <tr style=\"text-align: right;\">\n",
       "      <th></th>\n",
       "      <th>symbol</th>\n",
       "      <th>name</th>\n",
       "      <th>mass</th>\n",
       "    </tr>\n",
       "    <tr>\n",
       "      <th>atomic_number</th>\n",
       "      <th></th>\n",
       "      <th></th>\n",
       "      <th></th>\n",
       "    </tr>\n",
       "  </thead>\n",
       "  <tbody>\n",
       "    <tr>\n",
       "      <th>1</th>\n",
       "      <td>b'H'</td>\n",
       "      <td>b'Hydrogen'</td>\n",
       "      <td>1.007975</td>\n",
       "    </tr>\n",
       "    <tr>\n",
       "      <th>2</th>\n",
       "      <td>b'He'</td>\n",
       "      <td>b'Helium'</td>\n",
       "      <td>4.002602</td>\n",
       "    </tr>\n",
       "    <tr>\n",
       "      <th>3</th>\n",
       "      <td>b'Li'</td>\n",
       "      <td>b'Lithium'</td>\n",
       "      <td>6.967500</td>\n",
       "    </tr>\n",
       "    <tr>\n",
       "      <th>4</th>\n",
       "      <td>b'Be'</td>\n",
       "      <td>b'Beryllium'</td>\n",
       "      <td>9.012183</td>\n",
       "    </tr>\n",
       "    <tr>\n",
       "      <th>5</th>\n",
       "      <td>b'B'</td>\n",
       "      <td>b'Boron'</td>\n",
       "      <td>10.813500</td>\n",
       "    </tr>\n",
       "    <tr>\n",
       "      <th>6</th>\n",
       "      <td>b'C'</td>\n",
       "      <td>b'Carbon'</td>\n",
       "      <td>12.010600</td>\n",
       "    </tr>\n",
       "    <tr>\n",
       "      <th>7</th>\n",
       "      <td>b'N'</td>\n",
       "      <td>b'Nitrogen'</td>\n",
       "      <td>14.006855</td>\n",
       "    </tr>\n",
       "    <tr>\n",
       "      <th>8</th>\n",
       "      <td>b'O'</td>\n",
       "      <td>b'Oxygen'</td>\n",
       "      <td>15.999400</td>\n",
       "    </tr>\n",
       "    <tr>\n",
       "      <th>9</th>\n",
       "      <td>b'F'</td>\n",
       "      <td>b'Fluorine'</td>\n",
       "      <td>18.998403</td>\n",
       "    </tr>\n",
       "    <tr>\n",
       "      <th>10</th>\n",
       "      <td>b'Ne'</td>\n",
       "      <td>b'Neon'</td>\n",
       "      <td>20.179700</td>\n",
       "    </tr>\n",
       "    <tr>\n",
       "      <th>11</th>\n",
       "      <td>b'Na'</td>\n",
       "      <td>b'Sodium'</td>\n",
       "      <td>22.989769</td>\n",
       "    </tr>\n",
       "    <tr>\n",
       "      <th>12</th>\n",
       "      <td>b'Mg'</td>\n",
       "      <td>b'Magnesium'</td>\n",
       "      <td>24.305500</td>\n",
       "    </tr>\n",
       "  </tbody>\n",
       "</table>\n",
       "</div>"
      ],
      "text/plain": [
       "              symbol          name       mass\n",
       "atomic_number                                \n",
       "1               b'H'   b'Hydrogen'   1.007975\n",
       "2              b'He'     b'Helium'   4.002602\n",
       "3              b'Li'    b'Lithium'   6.967500\n",
       "4              b'Be'  b'Beryllium'   9.012183\n",
       "5               b'B'      b'Boron'  10.813500\n",
       "6               b'C'     b'Carbon'  12.010600\n",
       "7               b'N'   b'Nitrogen'  14.006855\n",
       "8               b'O'     b'Oxygen'  15.999400\n",
       "9               b'F'   b'Fluorine'  18.998403\n",
       "10             b'Ne'       b'Neon'  20.179700\n",
       "11             b'Na'     b'Sodium'  22.989769\n",
       "12             b'Mg'  b'Magnesium'  24.305500"
      ]
     },
     "execution_count": 1,
     "metadata": {},
     "output_type": "execute_result"
    }
   ],
   "source": [
    "atom_data.atom_masses_prepared"
   ]
  },
  {
   "cell_type": "code",
   "execution_count": 12,
   "metadata": {
    "execution": {
     "iopub.execute_input": "2022-04-28T15:28:33.505660Z",
     "iopub.status.busy": "2022-04-28T15:28:33.505459Z",
     "iopub.status.idle": "2022-04-28T15:28:44.039702Z",
     "shell.execute_reply": "2022-04-28T15:28:44.039181Z"
    }
   },
   "outputs": [
    {
     "name": "stdout",
     "output_type": "stream",
     "text": [
      "[\u001b[1m                py.warnings\u001b[0m][\u001b[1;33mWARNING\u001b[0m] - /usr/share/miniconda3/envs/carsus/lib/python3.6/site-packages/pandas/core/series.py:679: RuntimeWarning: divide by zero encountered in log10\n",
      "  result = getattr(ufunc, method)(*inputs, **kwargs)\n",
      " (\u001b[1mwarnings.py\u001b[0m:99)\n"
     ]
    },
    {
     "data": {
      "text/html": [
       "<div>\n",
       "<style scoped>\n",
       "    .dataframe tbody tr th:only-of-type {\n",
       "        vertical-align: middle;\n",
       "    }\n",
       "\n",
       "    .dataframe tbody tr th {\n",
       "        vertical-align: top;\n",
       "    }\n",
       "\n",
       "    .dataframe thead th {\n",
       "        text-align: right;\n",
       "    }\n",
       "</style>\n",
       "<table border=\"1\" class=\"dataframe\">\n",
       "  <thead>\n",
       "    <tr style=\"text-align: right;\">\n",
       "      <th></th>\n",
       "      <th></th>\n",
       "      <th></th>\n",
       "      <th>energy</th>\n",
       "      <th>g</th>\n",
       "      <th>metastable</th>\n",
       "    </tr>\n",
       "    <tr>\n",
       "      <th>atomic_number</th>\n",
       "      <th>ion_number</th>\n",
       "      <th>level_number</th>\n",
       "      <th></th>\n",
       "      <th></th>\n",
       "      <th></th>\n",
       "    </tr>\n",
       "  </thead>\n",
       "  <tbody>\n",
       "    <tr>\n",
       "      <th rowspan=\"2\" valign=\"top\">1</th>\n",
       "      <th>0</th>\n",
       "      <th>0</th>\n",
       "      <td>0.000000</td>\n",
       "      <td>2</td>\n",
       "      <td>True</td>\n",
       "    </tr>\n",
       "    <tr>\n",
       "      <th>1</th>\n",
       "      <th>0</th>\n",
       "      <td>0.000000</td>\n",
       "      <td>1</td>\n",
       "      <td>True</td>\n",
       "    </tr>\n",
       "    <tr>\n",
       "      <th rowspan=\"18\" valign=\"top\">2</th>\n",
       "      <th rowspan=\"18\" valign=\"top\">0</th>\n",
       "      <th>0</th>\n",
       "      <td>0.000000</td>\n",
       "      <td>1</td>\n",
       "      <td>True</td>\n",
       "    </tr>\n",
       "    <tr>\n",
       "      <th>1</th>\n",
       "      <td>19.819626</td>\n",
       "      <td>3</td>\n",
       "      <td>True</td>\n",
       "    </tr>\n",
       "    <tr>\n",
       "      <th>2</th>\n",
       "      <td>20.615788</td>\n",
       "      <td>1</td>\n",
       "      <td>True</td>\n",
       "    </tr>\n",
       "    <tr>\n",
       "      <th>3</th>\n",
       "      <td>20.964099</td>\n",
       "      <td>5</td>\n",
       "      <td>False</td>\n",
       "    </tr>\n",
       "    <tr>\n",
       "      <th>4</th>\n",
       "      <td>20.964109</td>\n",
       "      <td>3</td>\n",
       "      <td>False</td>\n",
       "    </tr>\n",
       "    <tr>\n",
       "      <th>5</th>\n",
       "      <td>20.964117</td>\n",
       "      <td>5</td>\n",
       "      <td>True</td>\n",
       "    </tr>\n",
       "    <tr>\n",
       "      <th>6</th>\n",
       "      <td>20.964117</td>\n",
       "      <td>9</td>\n",
       "      <td>True</td>\n",
       "    </tr>\n",
       "    <tr>\n",
       "      <th>7</th>\n",
       "      <td>20.964231</td>\n",
       "      <td>1</td>\n",
       "      <td>False</td>\n",
       "    </tr>\n",
       "    <tr>\n",
       "      <th>8</th>\n",
       "      <td>21.218036</td>\n",
       "      <td>3</td>\n",
       "      <td>False</td>\n",
       "    </tr>\n",
       "    <tr>\n",
       "      <th>9</th>\n",
       "      <td>22.718479</td>\n",
       "      <td>3</td>\n",
       "      <td>False</td>\n",
       "    </tr>\n",
       "    <tr>\n",
       "      <th>10</th>\n",
       "      <td>22.920331</td>\n",
       "      <td>1</td>\n",
       "      <td>False</td>\n",
       "    </tr>\n",
       "    <tr>\n",
       "      <th>11</th>\n",
       "      <td>23.007085</td>\n",
       "      <td>5</td>\n",
       "      <td>False</td>\n",
       "    </tr>\n",
       "    <tr>\n",
       "      <th>12</th>\n",
       "      <td>23.007087</td>\n",
       "      <td>3</td>\n",
       "      <td>False</td>\n",
       "    </tr>\n",
       "    <tr>\n",
       "      <th>13</th>\n",
       "      <td>23.007090</td>\n",
       "      <td>5</td>\n",
       "      <td>True</td>\n",
       "    </tr>\n",
       "    <tr>\n",
       "      <th>14</th>\n",
       "      <td>23.007121</td>\n",
       "      <td>1</td>\n",
       "      <td>False</td>\n",
       "    </tr>\n",
       "    <tr>\n",
       "      <th>15</th>\n",
       "      <td>23.073663</td>\n",
       "      <td>7</td>\n",
       "      <td>False</td>\n",
       "    </tr>\n",
       "    <tr>\n",
       "      <th>16</th>\n",
       "      <td>23.073663</td>\n",
       "      <td>5</td>\n",
       "      <td>False</td>\n",
       "    </tr>\n",
       "    <tr>\n",
       "      <th>17</th>\n",
       "      <td>23.073664</td>\n",
       "      <td>7</td>\n",
       "      <td>True</td>\n",
       "    </tr>\n",
       "  </tbody>\n",
       "</table>\n",
       "</div>"
      ],
      "text/plain": [
       "                                          energy  g  metastable\n",
       "atomic_number ion_number level_number                          \n",
       "1             0          0              0.000000  2        True\n",
       "              1          0              0.000000  1        True\n",
       "2             0          0              0.000000  1        True\n",
       "                         1             19.819626  3        True\n",
       "                         2             20.615788  1        True\n",
       "                         3             20.964099  5       False\n",
       "                         4             20.964109  3       False\n",
       "                         5             20.964117  5        True\n",
       "                         6             20.964117  9        True\n",
       "                         7             20.964231  1       False\n",
       "                         8             21.218036  3       False\n",
       "                         9             22.718479  3       False\n",
       "                         10            22.920331  1       False\n",
       "                         11            23.007085  5       False\n",
       "                         12            23.007087  3       False\n",
       "                         13            23.007090  5        True\n",
       "                         14            23.007121  1       False\n",
       "                         15            23.073663  7       False\n",
       "                         16            23.073663  5       False\n",
       "                         17            23.073664  7        True"
      ]
     },
     "execution_count": 1,
     "metadata": {},
     "output_type": "execute_result"
    }
   ],
   "source": [
    "atom_data.levels_prepared.head(20)"
   ]
  },
  {
   "cell_type": "code",
   "execution_count": 13,
   "metadata": {
    "execution": {
     "iopub.execute_input": "2022-04-28T15:28:44.042704Z",
     "iopub.status.busy": "2022-04-28T15:28:44.042516Z",
     "iopub.status.idle": "2022-04-28T15:28:54.669589Z",
     "shell.execute_reply": "2022-04-28T15:28:54.669744Z"
    }
   },
   "outputs": [
    {
     "data": {
      "text/html": [
       "<div>\n",
       "<style scoped>\n",
       "    .dataframe tbody tr th:only-of-type {\n",
       "        vertical-align: middle;\n",
       "    }\n",
       "\n",
       "    .dataframe tbody tr th {\n",
       "        vertical-align: top;\n",
       "    }\n",
       "\n",
       "    .dataframe thead th {\n",
       "        text-align: right;\n",
       "    }\n",
       "</style>\n",
       "<table border=\"1\" class=\"dataframe\">\n",
       "  <thead>\n",
       "    <tr style=\"text-align: right;\">\n",
       "      <th></th>\n",
       "      <th>atomic_number</th>\n",
       "      <th>ion_number</th>\n",
       "      <th>source_level_number</th>\n",
       "      <th>destination_level_number</th>\n",
       "      <th>transition_type</th>\n",
       "      <th>transition_probability</th>\n",
       "      <th>transition_line_id</th>\n",
       "    </tr>\n",
       "  </thead>\n",
       "  <tbody>\n",
       "    <tr>\n",
       "      <th>0</th>\n",
       "      <td>2</td>\n",
       "      <td>0</td>\n",
       "      <td>0</td>\n",
       "      <td>142</td>\n",
       "      <td>1</td>\n",
       "      <td>0.000000e+00</td>\n",
       "      <td>69</td>\n",
       "    </tr>\n",
       "    <tr>\n",
       "      <th>1</th>\n",
       "      <td>2</td>\n",
       "      <td>0</td>\n",
       "      <td>0</td>\n",
       "      <td>132</td>\n",
       "      <td>1</td>\n",
       "      <td>0.000000e+00</td>\n",
       "      <td>70</td>\n",
       "    </tr>\n",
       "    <tr>\n",
       "      <th>2</th>\n",
       "      <td>2</td>\n",
       "      <td>0</td>\n",
       "      <td>0</td>\n",
       "      <td>122</td>\n",
       "      <td>1</td>\n",
       "      <td>0.000000e+00</td>\n",
       "      <td>71</td>\n",
       "    </tr>\n",
       "    <tr>\n",
       "      <th>3</th>\n",
       "      <td>2</td>\n",
       "      <td>0</td>\n",
       "      <td>0</td>\n",
       "      <td>110</td>\n",
       "      <td>1</td>\n",
       "      <td>0.000000e+00</td>\n",
       "      <td>72</td>\n",
       "    </tr>\n",
       "    <tr>\n",
       "      <th>4</th>\n",
       "      <td>2</td>\n",
       "      <td>0</td>\n",
       "      <td>0</td>\n",
       "      <td>96</td>\n",
       "      <td>1</td>\n",
       "      <td>0.000000e+00</td>\n",
       "      <td>73</td>\n",
       "    </tr>\n",
       "    <tr>\n",
       "      <th>5</th>\n",
       "      <td>2</td>\n",
       "      <td>0</td>\n",
       "      <td>0</td>\n",
       "      <td>81</td>\n",
       "      <td>1</td>\n",
       "      <td>0.000000e+00</td>\n",
       "      <td>74</td>\n",
       "    </tr>\n",
       "    <tr>\n",
       "      <th>6</th>\n",
       "      <td>2</td>\n",
       "      <td>0</td>\n",
       "      <td>0</td>\n",
       "      <td>64</td>\n",
       "      <td>1</td>\n",
       "      <td>0.000000e+00</td>\n",
       "      <td>75</td>\n",
       "    </tr>\n",
       "    <tr>\n",
       "      <th>7</th>\n",
       "      <td>2</td>\n",
       "      <td>0</td>\n",
       "      <td>0</td>\n",
       "      <td>50</td>\n",
       "      <td>1</td>\n",
       "      <td>0.000000e+00</td>\n",
       "      <td>76</td>\n",
       "    </tr>\n",
       "    <tr>\n",
       "      <th>8</th>\n",
       "      <td>2</td>\n",
       "      <td>0</td>\n",
       "      <td>0</td>\n",
       "      <td>35</td>\n",
       "      <td>1</td>\n",
       "      <td>0.000000e+00</td>\n",
       "      <td>77</td>\n",
       "    </tr>\n",
       "    <tr>\n",
       "      <th>9</th>\n",
       "      <td>2</td>\n",
       "      <td>0</td>\n",
       "      <td>0</td>\n",
       "      <td>20</td>\n",
       "      <td>1</td>\n",
       "      <td>0.000000e+00</td>\n",
       "      <td>78</td>\n",
       "    </tr>\n",
       "    <tr>\n",
       "      <th>10</th>\n",
       "      <td>2</td>\n",
       "      <td>0</td>\n",
       "      <td>0</td>\n",
       "      <td>8</td>\n",
       "      <td>1</td>\n",
       "      <td>0.000000e+00</td>\n",
       "      <td>79</td>\n",
       "    </tr>\n",
       "    <tr>\n",
       "      <th>11</th>\n",
       "      <td>2</td>\n",
       "      <td>0</td>\n",
       "      <td>1</td>\n",
       "      <td>164</td>\n",
       "      <td>1</td>\n",
       "      <td>1.012837e+09</td>\n",
       "      <td>145</td>\n",
       "    </tr>\n",
       "    <tr>\n",
       "      <th>12</th>\n",
       "      <td>2</td>\n",
       "      <td>0</td>\n",
       "      <td>1</td>\n",
       "      <td>155</td>\n",
       "      <td>1</td>\n",
       "      <td>1.248469e+09</td>\n",
       "      <td>146</td>\n",
       "    </tr>\n",
       "    <tr>\n",
       "      <th>13</th>\n",
       "      <td>2</td>\n",
       "      <td>0</td>\n",
       "      <td>1</td>\n",
       "      <td>146</td>\n",
       "      <td>1</td>\n",
       "      <td>1.561061e+09</td>\n",
       "      <td>147</td>\n",
       "    </tr>\n",
       "    <tr>\n",
       "      <th>14</th>\n",
       "      <td>2</td>\n",
       "      <td>0</td>\n",
       "      <td>1</td>\n",
       "      <td>136</td>\n",
       "      <td>1</td>\n",
       "      <td>1.994064e+09</td>\n",
       "      <td>148</td>\n",
       "    </tr>\n",
       "    <tr>\n",
       "      <th>15</th>\n",
       "      <td>2</td>\n",
       "      <td>0</td>\n",
       "      <td>1</td>\n",
       "      <td>126</td>\n",
       "      <td>1</td>\n",
       "      <td>2.596821e+09</td>\n",
       "      <td>149</td>\n",
       "    </tr>\n",
       "    <tr>\n",
       "      <th>16</th>\n",
       "      <td>2</td>\n",
       "      <td>0</td>\n",
       "      <td>1</td>\n",
       "      <td>114</td>\n",
       "      <td>1</td>\n",
       "      <td>1.149997e+09</td>\n",
       "      <td>151</td>\n",
       "    </tr>\n",
       "    <tr>\n",
       "      <th>17</th>\n",
       "      <td>2</td>\n",
       "      <td>0</td>\n",
       "      <td>1</td>\n",
       "      <td>115</td>\n",
       "      <td>1</td>\n",
       "      <td>1.908520e+09</td>\n",
       "      <td>152</td>\n",
       "    </tr>\n",
       "    <tr>\n",
       "      <th>18</th>\n",
       "      <td>2</td>\n",
       "      <td>0</td>\n",
       "      <td>1</td>\n",
       "      <td>100</td>\n",
       "      <td>1</td>\n",
       "      <td>1.602380e+09</td>\n",
       "      <td>154</td>\n",
       "    </tr>\n",
       "    <tr>\n",
       "      <th>19</th>\n",
       "      <td>2</td>\n",
       "      <td>0</td>\n",
       "      <td>1</td>\n",
       "      <td>99</td>\n",
       "      <td>1</td>\n",
       "      <td>2.659288e+09</td>\n",
       "      <td>155</td>\n",
       "    </tr>\n",
       "  </tbody>\n",
       "</table>\n",
       "</div>"
      ],
      "text/plain": [
       "    atomic_number  ion_number  source_level_number  destination_level_number  \\\n",
       "0               2           0                    0                       142   \n",
       "1               2           0                    0                       132   \n",
       "2               2           0                    0                       122   \n",
       "3               2           0                    0                       110   \n",
       "4               2           0                    0                        96   \n",
       "5               2           0                    0                        81   \n",
       "6               2           0                    0                        64   \n",
       "7               2           0                    0                        50   \n",
       "8               2           0                    0                        35   \n",
       "9               2           0                    0                        20   \n",
       "10              2           0                    0                         8   \n",
       "11              2           0                    1                       164   \n",
       "12              2           0                    1                       155   \n",
       "13              2           0                    1                       146   \n",
       "14              2           0                    1                       136   \n",
       "15              2           0                    1                       126   \n",
       "16              2           0                    1                       114   \n",
       "17              2           0                    1                       115   \n",
       "18              2           0                    1                       100   \n",
       "19              2           0                    1                        99   \n",
       "\n",
       "    transition_type  transition_probability  transition_line_id  \n",
       "0                 1            0.000000e+00                  69  \n",
       "1                 1            0.000000e+00                  70  \n",
       "2                 1            0.000000e+00                  71  \n",
       "3                 1            0.000000e+00                  72  \n",
       "4                 1            0.000000e+00                  73  \n",
       "5                 1            0.000000e+00                  74  \n",
       "6                 1            0.000000e+00                  75  \n",
       "7                 1            0.000000e+00                  76  \n",
       "8                 1            0.000000e+00                  77  \n",
       "9                 1            0.000000e+00                  78  \n",
       "10                1            0.000000e+00                  79  \n",
       "11                1            1.012837e+09                 145  \n",
       "12                1            1.248469e+09                 146  \n",
       "13                1            1.561061e+09                 147  \n",
       "14                1            1.994064e+09                 148  \n",
       "15                1            2.596821e+09                 149  \n",
       "16                1            1.149997e+09                 151  \n",
       "17                1            1.908520e+09                 152  \n",
       "18                1            1.602380e+09                 154  \n",
       "19                1            2.659288e+09                 155  "
      ]
     },
     "execution_count": 1,
     "metadata": {},
     "output_type": "execute_result"
    }
   ],
   "source": [
    "atom_data.macro_atom_prepared.head(20)"
   ]
  },
  {
   "cell_type": "markdown",
   "metadata": {},
   "source": [
    "Finally, use the `to_hdf()` method to create an HDF5 file."
   ]
  },
  {
   "cell_type": "code",
   "execution_count": 14,
   "metadata": {
    "execution": {
     "iopub.execute_input": "2022-04-28T15:28:54.672899Z",
     "iopub.status.busy": "2022-04-28T15:28:54.672694Z",
     "iopub.status.idle": "2022-04-28T15:29:04.669638Z",
     "shell.execute_reply": "2022-04-28T15:29:04.669475Z"
    }
   },
   "outputs": [
    {
     "name": "stdout",
     "output_type": "stream",
     "text": [
      "[\u001b[1m                py.warnings\u001b[0m][\u001b[1;33mWARNING\u001b[0m] - /usr/share/miniconda3/envs/carsus/lib/python3.6/site-packages/IPython/core/interactiveshell.py:3343: PerformanceWarning: \n",
      "your performance may suffer as PyTables will pickle object types that it cannot\n",
      "map directly to c-types [inferred_type->bytes,key->block0_values] [items->Index(['symbol', 'name'], dtype='object')]\n",
      "\n",
      "  exec(code_obj, self.user_global_ns, self.user_ns)\n",
      " (\u001b[1mwarnings.py\u001b[0m:99)\n"
     ]
    },
    {
     "name": "stdout",
     "output_type": "stream",
     "text": [
      "[\u001b[1m   carsus.io.output.tardis_\u001b[0m][   \u001b[1;37mINFO\u001b[0m] - Signing AtomData: \n",
      "MD5: 90764caf5b4651627de0df67942ca361\n",
      "UUID1: effc2fe0c70711eca0ac0022482aaaec (\u001b[1mtardis_.py\u001b[0m:1180)\n"
     ]
    }
   ],
   "source": [
    "atom_data.to_hdf('kurucz_H-Mg_chianti_O_I-III.h5', \n",
    "                 store_atom_masses=True, \n",
    "                 store_ionization_energies=True, \n",
    "                 store_levels=True, \n",
    "                 store_lines=True,\n",
    "                 store_collisions=True,\n",
    "                 store_macro_atom=True,\n",
    "                 store_zeta_data=True)"
   ]
  },
  {
   "cell_type": "markdown",
   "metadata": {},
   "source": [
    "You are done! Now you can use your file to run TARDIS simulations."
   ]
  }
 ],
 "metadata": {
  "kernelspec": {
   "display_name": "Python 3",
   "language": "python",
   "name": "python3"
  },
  "language_info": {
   "codemirror_mode": {
    "name": "ipython",
    "version": 3
   },
   "file_extension": ".py",
   "mimetype": "text/x-python",
   "name": "python",
   "nbconvert_exporter": "python",
   "pygments_lexer": "ipython3",
   "version": "3.6.15"
  }
 },
 "nbformat": 4,
 "nbformat_minor": 1
}
